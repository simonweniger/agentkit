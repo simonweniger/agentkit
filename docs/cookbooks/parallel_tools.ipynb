{
 "cells": [
  {
   "cell_type": "markdown",
   "id": "5d447fc7-a904-4a9e-873d-7264644759bd",
   "metadata": {
    "editable": true,
    "slideshow": {
     "slide_type": ""
    },
    "tags": []
   },
   "source": [
    "# Parallel Function Calling\n",
    "\n",
    "Parallel function calls are available in the following models: gpt-4-1106-preview and gpt-3.5-turbo-1106.\n",
    "\n",
    "For the most accurate and detailed information, please visit the [OpenAI documentation directly at OpenAI Platform Guides - Function Calling](https://platform.openai.com/docs/guides/function-calling/parallel-function-calling)."
   ]
  },
  {
   "cell_type": "code",
   "execution_count": 2,
   "id": "f6297385-a0c7-4dff-9595-72721d4a9f9a",
   "metadata": {
    "editable": true,
    "slideshow": {
     "slide_type": ""
    },
    "tags": []
   },
   "outputs": [],
   "source": [
    "import os\n",
    "\n",
    "from agentkit import action\n",
    "from agentkit import completion\n",
    "\n",
    "os.environ[\"OPENAI_API_KEY\"] = os.getenv(\"OPENAI_API_KEY\")"
   ]
  },
  {
   "cell_type": "code",
   "execution_count": 3,
   "id": "082399ea-2ba9-4f42-a17d-82de79a65ced",
   "metadata": {},
   "outputs": [],
   "source": [
    "\n",
    "@action(name=\"GetWeather\")\n",
    "def get_current_weather(location, unit=\"fahrenheit\"):\n",
    "    \"\"\"Get the current weather in a given location\"\"\"\n",
    "    print (\"Getting current weather\")\n",
    "\n",
    "    import json\n",
    "    if \"tokyo\" in location.lower():\n",
    "        return json.dumps({\"location\": \"Tokyo\", \"temperature\": \"10\", \"unit\": \"celsius\"})\n",
    "    elif \"san francisco\" in location.lower():\n",
    "        return json.dumps({\"location\": \"San Francisco\", \"temperature\": \"72\", \"unit\": \"fahrenheit\"})\n",
    "    elif \"paris\" in location.lower():\n",
    "        return json.dumps({\"location\": \"Paris\", \"temperature\": \"22\", \"unit\": \"celsius\"})\n",
    "    else:\n",
    "        return json.dumps({\"location\": location, \"temperature\": \"unknown\"})\n",
    "\n",
    "\n",
    "@action(name=\"GetCurrentTime\")\n",
    "def get_current_time() -> str:\n",
    "    \"\"\"\n",
    "    Use this for getting the current time in the specified time zone.\n",
    "\n",
    "    :return: A string representing the current time in the specified time zone.\n",
    "    \"\"\"\n",
    "    print (\"Getting current time\")\n",
    "    import datetime\n",
    "    current_time = datetime.datetime.now()\n",
    "\n",
    "    return f\"The current time is {current_time}\"\n"
   ]
  },
  {
   "cell_type": "code",
   "execution_count": 4,
   "id": "e2c60439-71bc-4830-beb5-85446d162329",
   "metadata": {
    "editable": true,
    "slideshow": {
     "slide_type": ""
    },
    "tags": []
   },
   "outputs": [
    {
     "name": "stdout",
     "output_type": "stream",
     "text": [
      "Getting current time\n",
      "Getting current weather\n",
      "Getting current weather\n",
      "Getting current weather\n"
     ]
    }
   ],
   "source": [
    "response = completion(\n",
    "  model=\"gpt-4o\",\n",
    "  messages=[{\"role\": \"user\", \"content\": \"what time is it now and What's the weather like in San Francisco, Tokyo, and Paris?\"}],\n",
    "  actions = [get_current_weather, get_current_time],\n",
    "  stream=False,\n",
    ")\n"
   ]
  },
  {
   "cell_type": "code",
   "execution_count": 5,
   "id": "b93a7364-b820-4a3a-9970-a7a380ea3786",
   "metadata": {
    "editable": true,
    "slideshow": {
     "slide_type": ""
    },
    "tags": []
   },
   "outputs": [
    {
     "name": "stdout",
     "output_type": "stream",
     "text": [
      "### Current Time:\n",
      "- The current time is: 2024-08-11 18:36:37\n",
      "\n",
      "### Weather:\n",
      "- **San Francisco:** \n",
      "  - Temperature: 72°F\n",
      "  \n",
      "- **Tokyo:**\n",
      "  - Temperature: 10°C\n",
      "  \n",
      "- **Paris:**\n",
      "  - Temperature: 22°C\n"
     ]
    }
   ],
   "source": [
    "print (response.choices[0].message.content)"
   ]
  }
 ],
 "metadata": {
  "kernelspec": {
   "display_name": "Python 3 (ipykernel)",
   "language": "python",
   "name": "python3"
  },
  "language_info": {
   "codemirror_mode": {
    "name": "ipython",
    "version": 3
   },
   "file_extension": ".py",
   "mimetype": "text/x-python",
   "name": "python",
   "nbconvert_exporter": "python",
   "pygments_lexer": "ipython3",
   "version": "3.10.11"
  }
 },
 "nbformat": 4,
 "nbformat_minor": 5
}
